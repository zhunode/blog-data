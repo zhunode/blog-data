{
 "cells": [
  {
   "cell_type": "markdown",
   "metadata": {},
   "source": [
    "## Gradient Descent\n",
    "\n",
    "非线性转换：因为在经过非线性转换后，数据可能会变得线性可分，而且可以加的层数变多。\n",
    "\n",
    "\n",
    "关于神经网络的公式：\n",
    "$\\sigma(w^3\\sigma(w^2\\sigma(w^1x+b^1)+b^2)+b^3)$\n",
    "\n",
    "<img src='./images/神经网络计算图01.png'>\n",
    "\n",
    "梯度训练的方法：\n",
    "+ SGD : 每次只丢一条数据去训练，这样就需要更新样本量集的次数\n",
    "+ minibatch-SGD : 小量梯度下降算法\n",
    "+ batch-SGD : 全量梯度下降算法\n",
    "\n",
    "<span style=\"color:red\">为什么是反梯度方向下降最快？</span>\n",
    "\n",
    "<img src=\"./images/负梯度下降最快的原因.png\">\n",
    "\n",
    "\n",
    "<span style=\"color:red\">关于牛顿法的理解</span>\n",
    "<img src=\"./images/牛顿法的理解.png\">\n",
    "\n",
    "牛顿法的理解：\n",
    "1 牛顿法主要的意思是给定一条曲线$f(x)$,,我们希望找到与x轴相交的点$x_{zero}$，现在已知曲线上的点(x0,y0)，然后我们通过$y-y_0=f^{\\prime}(x_0)(x-x_0)$函数找到与x轴相交的点x_1,再将x_1带入f(x),得到$x_0 * \\frac{-y_0}{f^{\\prime}(x_0)}=x$，求得y_1，再通过$y-y_1=f^{\\prime}(x_1)(x-x_1)$函数找到与x轴相交的点x_2，继而再找到y_2，以此类推，总会找到$f(x)$与x轴相交的点$x_0$\n",
    "\n",
    "该方法就是牛顿法。\n",
    "\n",
    "而对于梯度下降法而言，它的公式为：\n",
    "$$x=x-lr*\\nabla f(x)=x-lr*f^{\\prime}(x)$$\n",
    "从而，可以通过控制lr缓慢走到最小值点。\n",
    "\n",
    "而如果将SGD换到牛顿法中的化，只需将y轴改为$f^{\\prime}(x)$即可，这样，求得的与x轴相交的点也就为极小值点。但是这样的缺陷是：\n",
    "$$x_1=x_0-f^{\\prime}(x)*\\frac{1}{f^{\\prime \\prime}(x)}$$\n",
    "\n",
    "<span style=\"color:red\">需要求二阶导，这对于深度学习的大量数据而言，每个样本求二阶导，计算量过大，从而出现了SGD来替代牛顿法。</span>"
   ]
  },
  {
   "cell_type": "markdown",
   "metadata": {},
   "source": [
    "### Rmsprop考虑梯度，Adam是加了加速度这个动量来求解梯度的，所以应该是比SGD好的。\n",
    "\n",
    "可参考文章：An overview of gradient descent optimization algorithms\n",
    "视频：https://www.bilibili.com/video/av85562236?p=10"
   ]
  }
 ],
 "metadata": {
  "kernelspec": {
   "display_name": "Python 3",
   "language": "python",
   "name": "python3"
  },
  "language_info": {
   "codemirror_mode": {
    "name": "ipython",
    "version": 3
   },
   "file_extension": ".py",
   "mimetype": "text/x-python",
   "name": "python",
   "nbconvert_exporter": "python",
   "pygments_lexer": "ipython3",
   "version": "3.6.9"
  }
 },
 "nbformat": 4,
 "nbformat_minor": 2
}
