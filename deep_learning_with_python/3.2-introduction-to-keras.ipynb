{
 "cells": [
  {
   "cell_type": "markdown",
   "metadata": {},
   "source": [
    "### Keras has the following key features\n",
    "+ It allows the same code to run seamlessly on CPU or GPU.\n",
    "+ It has a user-friendly API.\n",
    "+ It has built-in support for convolutional networks(for computer vision),recurrent networks(for sequence processing),and any combination of both.\n",
    "+ It supports arbitrary network architectures:multi-input models,layer sharing,model sharing,and so on."
   ]
  },
  {
   "cell_type": "markdown",
   "metadata": {},
   "source": [
    "### Developing with keras:The are two ways to define a model:\n",
    "+ The typical Keras workflow looks just like that example:\n",
    ">+ Define your training data: input tensors and target tensors\n",
    ">+ Define a network of layers(or model)that maps your inputs to your targets\n",
    ">+ Configure the learing process by chossing a loss function,an optimizer,and some metrics to monitor\n",
    ">+ Iterate on your traing data by calling the fit() method of your model.\n",
    "+ The Sequential class(only for linear stacks of layers,which is the most common network architecture by far)\n",
    "+ The functional API(for directed acyclic graphs of layers,which lets you build completely arbitrary architectures)\n",
    "+ With the functional API,you're manipulating the data tensors that the model processes and applying layers to this tensor as if they were functions.\n",
    "\n",
    "directed acyclic graphs : 有向无环图"
   ]
  },
  {
   "cell_type": "code",
   "execution_count": 1,
   "metadata": {},
   "outputs": [],
   "source": [
    "# The Sequential class\n",
    "from keras import models\n",
    "from keras import layers\n",
    "\n",
    "model = models.Sequential()\n",
    "model.add(layers.Dense(32,activation='relu',input_shape=(784,)))\n",
    "model.add(layers.Dense(10,activation='softmax'))"
   ]
  },
  {
   "cell_type": "code",
   "execution_count": 6,
   "metadata": {},
   "outputs": [],
   "source": [
    "# The functional API:\n",
    "input_tensor = layers.Input(shape=(784,))\n",
    "x = layers.Dense(32,activation='relu')(input_tensor)\n",
    "output_tensor = layers.Dense(10,activation='softmax')(x)\n",
    "model = models.Model(inputs=input_tensor,outputs=output_tensor)"
   ]
  },
  {
   "cell_type": "code",
   "execution_count": 7,
   "metadata": {},
   "outputs": [],
   "source": [
    "from keras import optimizers\n",
    "\n",
    "model.compile(optimizer=optimizers.RMSprop(lr=0.01),loss='mse',metrics=['accuracy'])"
   ]
  },
  {
   "cell_type": "code",
   "execution_count": null,
   "metadata": {},
   "outputs": [],
   "source": [
    "model.fit(input_tensor,target_tensor,batch_size=128,epochs=10)"
   ]
  }
 ],
 "metadata": {
  "kernelspec": {
   "display_name": "Python 3",
   "language": "python",
   "name": "python3"
  },
  "language_info": {
   "codemirror_mode": {
    "name": "ipython",
    "version": 3
   },
   "file_extension": ".py",
   "mimetype": "text/x-python",
   "name": "python",
   "nbconvert_exporter": "python",
   "pygments_lexer": "ipython3",
   "version": "3.6.9"
  }
 },
 "nbformat": 4,
 "nbformat_minor": 2
}
