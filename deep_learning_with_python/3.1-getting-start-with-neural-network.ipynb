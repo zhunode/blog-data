{
 "cells": [
  {
   "cell_type": "markdown",
   "metadata": {},
   "source": [
    "### Training a neural network revolves around the following objects:\n",
    "+ Layers,which are combined into a network(or model)\n",
    "+ The input data and corresponding targets\n",
    "+ the loss funciton,which defines the feedback signal used for learning\n",
    "+ the optimizer,which determines,how learning proceeds"
   ]
  },
  {
   "cell_type": "markdown",
   "metadata": {},
   "source": [
    "### 3.1 Relationship between the netowrk,layers,loss function,and optimizer"
   ]
  },
  {
   "cell_type": "markdown",
   "metadata": {},
   "source": [
    "#### Layers\n",
    "\n",
    "Simple vector data, stored in 2D tensors of shape(samples,features),is ofen processed by densely connected layers,also called fully connected or dense layers(the Dense class in Keras).Sequence data,stored in 3D tensors of shape(sample,timesteps,features),is typically processed by recurrent layers such as an LSTM layer.Image data,stored in 40 tensors,is usually processed by 2D convolution layers(Conv2D)."
   ]
  },
  {
   "cell_type": "markdown",
   "metadata": {},
   "source": [
    "#### Model\n",
    "\n",
    "+ The most common instance is a linear stack of layers,mapping a single input to a single output.\n",
    "\n",
    "+ As you move forward,you'll be exposed to a much broader variety of network topologies.Some common ones include the following:\n",
    "\n",
    "> + Two-branch networks\n",
    "> + Multithead networks\n",
    "> + Inception blocks\n",
    "\n",
    "The topology of a network defines a hypothesis space.By chossing a network topology,you constrain your space of possibilities(hypothesis space)..."
   ]
  },
  {
   "cell_type": "markdown",
   "metadata": {},
   "source": [
    "#### Loss function and optimizers\n",
    "\n",
    "Once the network architecture is defined,you still have to choose two more things:\n",
    "\n",
    ">+ Loss funciton(object function)- The quantity that will be minimized during training.It represents a measure of success for the task at hand.\n",
    ">+ Optimizer--Determines how the network will be updated based on the loss function.It implements a specific variant of stochastic gradient descent(SGD)\n",
    "\n",
    "+ A neural network thath has multiple outputs may have multiple loss function(one per output).But the gradient-descent process must be based on a single scalar loss value;so,for multiloss networks,all losses are combined(via averaging) into a single scalar quantity.\n",
    "+ Choosing the right objective function for the right problem is extrmely important:your network willl take any shortcut it can,to minimize the loss;so if the objective doesn't fully corelate with success for the task at hand,your network will end up doing things you may not have wanted.\n",
    "+ You'll use **binary crossentropy for a two-class classification problem**,**categorical crossentropy for a many-class classification problem**,**meansquared error for a regression problem**,connectionist temporal classification(CTC) for a sequence-learing problem,and so on."
   ]
  },
  {
   "cell_type": "code",
   "execution_count": null,
   "metadata": {},
   "outputs": [],
   "source": []
  }
 ],
 "metadata": {
  "kernelspec": {
   "display_name": "Python 3",
   "language": "python",
   "name": "python3"
  },
  "language_info": {
   "codemirror_mode": {
    "name": "ipython",
    "version": 3
   },
   "file_extension": ".py",
   "mimetype": "text/x-python",
   "name": "python",
   "nbconvert_exporter": "python",
   "pygments_lexer": "ipython3",
   "version": "3.6.9"
  }
 },
 "nbformat": 4,
 "nbformat_minor": 2
}
