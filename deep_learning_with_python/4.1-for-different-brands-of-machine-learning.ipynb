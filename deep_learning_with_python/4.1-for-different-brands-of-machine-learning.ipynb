{
 "cells": [
  {
   "cell_type": "markdown",
   "metadata": {},
   "source": [
    "第四章：fundamental-of-meachine-learning"
   ]
  },
  {
   "cell_type": "markdown",
   "metadata": {},
   "source": [
    "### Supervised learning 监督学习\n",
    "1 Sequence generation--Given a picture,predict a caption describing it.\n",
    "\n",
    "2 Syntax tree prediction -- Given a sentence,predict its decompositon into syntax tree.\n",
    "\n",
    "3 Object dection-- Give a picture,draw a bounding box around certain objects insidde the picture.This can also be expressed as a classification problem or as a join classification and regression problem,where the bounding-box coordinates are predict via vector regression.\n",
    "\n",
    "4 Image segmentation -- Give a picture,draw a pixel-level mask on a specific object."
   ]
  },
  {
   "cell_type": "markdown",
   "metadata": {},
   "source": [
    "### Unsupervised learning 非监督学习\n",
    "\n",
    "+ This brach of machine learning consists of finding interesting transformation of the input data without the help of any targets,for the purpose of data visualization,data compression,or data denoising,or to better understand the correlations present in the data at hand.\n",
    "+ It is often a necessary step in better understanding a dataset before attempting to solve a supervised-learing problem.\n",
    "+ Dimensionality reduction and clustering are well-known categories of unsupervised learning."
   ]
  },
  {
   "cell_type": "markdown",
   "metadata": {},
   "source": [
    "### Self-supervised learning 自我监督学习\n",
    "+ Self-surpervised learing is supervised learning without human-annotated labels.\n",
    "+ There are still labels involved,but they're generated from the input data,typically using a heuristic algorithm.\n",
    "+ For instance,autoencoders are a well-known instance of self-supervised learing,where the generated targets are the input,unmodified.\n",
    "+ In the same way,trying to predict the next frame in a video,given past frames,or the next word in a text,given previous words, are instances of self-supervised learning.\n",
    "+ Note that the distinction between supervised,self-supervised,and unsupervised learning can be blurry sometimes-these categories are more of a continuum without solid borders.\n",
    "\n",
    "+ Auto-Encoder 自编码器，是自我监督学习的一个实例。"
   ]
  },
  {
   "cell_type": "markdown",
   "metadata": {},
   "source": [
    "### Reinforcement learning 强化学习\n",
    "+ In reinforcement learning,an agent receives information about its environment and learns to choose actions that will maximize some reward.\n",
    "+ For instance ,a neural network that \"looks\" at a videogame screen and outputs game actions in order to maximize its score can be trained via reinforcement learning\n",
    "+ we expect to see reinforcement learning take over an increaingly large range of real-world applications;self-driving cars,robotics,resource management,education,and so on."
   ]
  },
  {
   "cell_type": "code",
   "execution_count": null,
   "metadata": {},
   "outputs": [],
   "source": []
  }
 ],
 "metadata": {
  "kernelspec": {
   "display_name": "Python 3",
   "language": "python",
   "name": "python3"
  },
  "language_info": {
   "codemirror_mode": {
    "name": "ipython",
    "version": 3
   },
   "file_extension": ".py",
   "mimetype": "text/x-python",
   "name": "python",
   "nbconvert_exporter": "python",
   "pygments_lexer": "ipython3",
   "version": "3.6.9"
  }
 },
 "nbformat": 4,
 "nbformat_minor": 2
}
