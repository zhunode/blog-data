{
 "cells": [
  {
   "cell_type": "markdown",
   "metadata": {},
   "source": [
    "+ Data preprocessing aimst at making the raw data at hand more amenable to neural networks.This includes vectoriaztion,normalization,handling missing values,and feature extraction"
   ]
  },
  {
   "cell_type": "markdown",
   "metadata": {},
   "source": [
    "### VECTORIZATION(向量化)\n",
    "\n",
    "+ All inputs and targets in a neural network must be tensors of floating-point data(or,in specific cases,tensors of integers).Whaterver data you need to process--sound,images,text--you must first turn into tensors,a step called data vectorization"
   ]
  },
  {
   "cell_type": "markdown",
   "metadata": {},
   "source": [
    "### VALUE NORMALIZATION(数值向量化)\n",
    "+ Your data should have the following characteristics;take smal values and be homogenous."
   ]
  },
  {
   "cell_type": "markdown",
   "metadata": {},
   "source": [
    "### HANDING MISSING VALUES\n",
    "\n",
    "+ In general,with neural networks,it's safe to input missing values as 0,with the condition that 0 isn't already a meaningfull value.The network will learn from exposure to the data at value 0 means missing data and will start ignoring the value.\n",
    "+ Note that if you are expecting missing values in the test data,but the network was trained on data without any missing values,the network won't have learned to ignore missing values.\n",
    "+ In this situation,you should artificially generate training samples with missing entries;copy some training samples several times,and drop some of the features that you expect are likely to be missing in the test data."
   ]
  },
  {
   "cell_type": "markdown",
   "metadata": {},
   "source": [
    "### Feature engineering\n",
    "\n",
    "+ Feature engineering is the process of using your own knowledge about the data and about the machine-learning algorithm at hand(in this case,a neural network) to make the algorithm work better by applying hardcoded(nonlearned) transformations to the data before it goes into the model.\n",
    "+ That's the essence of feature engineering:making a problem easier by expressing it in a similar way.It usually requires understanding the problem in depth.\n",
    "+ Fortunately,modern deep learning removes the need for most feature engineering,because neural networks are capable of automatically extracting useful features from raw data.Does this mean you don't have to worry about feature engineering as long as you're using deep neural networks?No,for two reasons:"
   ]
  },
  {
   "cell_type": "markdown",
   "metadata": {},
   "source": [
    "1 Good features still allow you to solve problems more elegantly while using fewer resource.\n",
    "\n",
    "2 Good features let you solve a problem with far less data.The ability of deeplearning models to learn features on their own relies on having lots of traing data available;if you have only a few samples;then the information value in their features becomes critical"
   ]
  }
 ],
 "metadata": {
  "kernelspec": {
   "display_name": "Python 3",
   "language": "python",
   "name": "python3"
  },
  "language_info": {
   "codemirror_mode": {
    "name": "ipython",
    "version": 3
   },
   "file_extension": ".py",
   "mimetype": "text/x-python",
   "name": "python",
   "nbconvert_exporter": "python",
   "pygments_lexer": "ipython3",
   "version": "3.6.9"
  }
 },
 "nbformat": 4,
 "nbformat_minor": 2
}
